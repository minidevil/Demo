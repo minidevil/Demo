{
  "nbformat": 4,
  "nbformat_minor": 0,
  "metadata": {
    "colab": {
      "name": "Inventory Management System.ipynb",
      "provenance": [],
      "collapsed_sections": []
    },
    "kernelspec": {
      "name": "python3",
      "display_name": "Python 3"
    },
    "language_info": {
      "name": "python"
    }
  },
  "cells": [
    {
      "cell_type": "code",
      "metadata": {
        "id": "0D5whLWDlduV"
      },
      "source": [
        "# Importing Libraries\n",
        "\n",
        "import json\n",
        "import re\n",
        "\n",
        "# Opening Database.json file to get Inventory data\n",
        "\n",
        "file = open(\"DataBase.json\", 'r')\n",
        "items = file.read()\n",
        "file.close()\n",
        "Items = json.loads(items)\n",
        "\n",
        "# Initialising Dictionaries and Variables\n",
        "\n",
        "Cart = {}\n",
        "cartCounter = 1"
      ],
      "execution_count": null,
      "outputs": []
    },
    {
      "cell_type": "code",
      "metadata": {
        "id": "clThZMbOCYhR"
      },
      "source": [
        "# Creating a function for dumping/updating Inventory Database\n",
        "\n",
        "def dumpItems():\n",
        "  items = json.dumps(dict(sorted(Items.items())))\n",
        "  file = open(\"DataBase.json\", 'w')\n",
        "  file.write(items)\n",
        "  file.close()"
      ],
      "execution_count": null,
      "outputs": []
    },
    {
      "cell_type": "code",
      "metadata": {
        "id": "7HwsFHjemLkh"
      },
      "source": [
        "# Creating a function to display items in inventory in Tabular Format\n",
        "\n",
        "def viewInventory(Items):\n",
        "  print(\"\\nThe Items in the Inventory are :- \\n\")\n",
        "  print(\"{:<12} {:<35} {:<12} {:<12}\".format(\"Item ID\",\"Item Name\",\"Price\",\"Quantity\"))\n",
        "  print(\"{:<12} {:<35} {:<12} {:<12}\".format(\"-------\",\"---- ----\",\"-----\",\"--------\"))\n",
        "  Items = {int(key):value for key, value in Items.items()}\n",
        "  [print(\"{:<12} {:<35} {:<12} {:<12}\".format(key,value[\"Name\"],value[\"Price\"],value[\"Quantity\"])) for key, value in sorted(Items.items())]\n",
        "  Items = {str(key):value for key, value in Items.items()}\n",
        "  print(\"======================================================================\")"
      ],
      "execution_count": null,
      "outputs": []
    },
    {
      "cell_type": "code",
      "metadata": {
        "id": "QeJ7SxMdmYZo"
      },
      "source": [
        "# I have also added Cart feature same as Online Shopping websites\n",
        "# Creating a function to display items in the Cart in Tabular Format\n",
        "\n",
        "def viewCart(Items):\n",
        "  print(\"\\nThe Items in your Cart are :- \\n\")\n",
        "  print(\"{:<12} {:<12} {:<35} {:<12} {:<12}\".format(\"Item No.\",\"Item ID\",\"Item Name\",\"Rate\",\"Quantity\"))\n",
        "  print(\"{:<12} {:<12} {:<35} {:<12} {:<12}\".format(\"--------\",\"-------\",\"---------\",\"-----\",\"--------\"))\n",
        "  Items = {int(key):value for key, value in Items.items()}\n",
        "  [print(\"{:<12} {:<12} {:<35} {:<12} {:<12}\".format(key,value[\"Item ID\"],value[\"Name\"],value[\"Price\"],value[\"Quantity\"])) for key, value in sorted(Cart.items())]\n",
        "  Items = {str(key):value for key, value in Items.items()}\n",
        "  print(\"===================================================================================\")"
      ],
      "execution_count": null,
      "outputs": []
    },
    {
      "cell_type": "code",
      "metadata": {
        "id": "yWXr9MkPWNFA"
      },
      "source": [
        "# This function will construct bills\n",
        "\n",
        "def bill():\n",
        "  global Bill\n",
        "  file = open(\"Sales.json\", 'r')\n",
        "  sales = file.read()\n",
        "  file.close()\n",
        "\n",
        "# I have added Transaction ID Feature\n",
        "\n",
        "  regx = re.findall('Transaction ID = +\\d+',sales)\n",
        "  print(\"Your Invoice is :-\")\n",
        "  if len(regx) > 0:\n",
        "    TS = \"\\n----------------------------- Transaction ID = %s ------------------------------\\n\" % (int(regx[-1][-1:-6:-1][::-1])+1)\n",
        "  else:\n",
        "    TS = \"\\n----------------------------- Transaction ID = 10001 ------------------------------\\n\"\n",
        "  \n",
        "  Bill = [\n",
        "  TS,\n",
        "  \"{:<12} {:<12} {:<35} {:<12} {:<12}\".format(\"--------\",\"-------\",\"---------\",\"-----\",\"--------\"),\n",
        "  \"{:<12} {:<12} {:<35} {:<12} {:<12}\".format(\"Item No.\",\"Item ID\",\"Item Name\",\"Quantity\",\"Rate\"),\n",
        "  \"{:<12} {:<12} {:<35} {:<12} {:<12}\".format(\"--------\",\"-------\",\"---------\",\"-----\",\"--------\"),\n",
        "  [\"{:<12} {:<12} {:<35} {:<12} {:<12}\".format(key,value[\"Item ID\"],value[\"Name\"],value[\"Quantity\"],value[\"Price\"]) for key, value in Cart.items()],\n",
        "  \"{:<12} {:<12} {:<35} {:<12} {:<12}\".format(\"--------\",\"-------\",\"---------\",\"-----\",\"--------\"),\n",
        "  ]\n",
        "\n",
        "# Costumer Invoice will be displayed here\n",
        "\n",
        "  for i in range(len(Bill)):\n",
        "    if i == 4:\n",
        "      for j in range(len(Bill[i])):\n",
        "        print(Bill[i][j])\n",
        "    else:\n",
        "      print(Bill[i])\n",
        "  total = sum(int(value[\"Price\"]) for key,value in Cart.items())\n",
        "  print(\"\\nSub Total = \",total)\n",
        "\n",
        "# Transactions will be appended in Sale.json over here\n",
        "\n",
        "  file = open(\"Sales.json\", 'a')\n",
        "  file.write(\"\\n\")\n",
        "  for i in range(len(Bill)):\n",
        "    if i == 4:\n",
        "      for j in range(len(Bill[i])):\n",
        "        file.write((Bill[i][j])+\"\\n\")\n",
        "    else:\n",
        "      file.write((Bill[i])+\"\\n\")\n",
        "  totalAmount = \"TOTAL AMOUNT RECEIVED ===> \"+str(total)\n",
        "\n",
        "# End of Transaction\n",
        "\n",
        "  file.write(totalAmount)\n",
        "  file.close()\n",
        "  print(\"\\n\\nTRANSACTION SUCCESSFUL\\nVISIT OUR INVENTORY BACK SOON :)\")"
      ],
      "execution_count": null,
      "outputs": []
    },
    {
      "cell_type": "code",
      "metadata": {
        "id": "ujmFtm9vmcFY"
      },
      "source": [
        "# This funciton handles the purchase operations\n",
        "\n",
        "def Purchase():\n",
        "  global cartCounter\n",
        "  itemId = input(\"Enter the Item ID :- \")\n",
        "  if itemId in Items:\n",
        "    print(\"Name of item -\\t\\t{}\\nPrice -\\t\\t\\t{}\\nStock Available -\\t{}\".format(Items[itemId]['Name'],Items[itemId]['Price'],Items[itemId]['Quantity']))\n",
        "    purchaseQuantity = int(input(\"\\nEnter the amount of %s's you want to purchase :- \" % Items[itemId]['Name']))\n",
        "    if purchaseQuantity <= int(Items[itemId]['Quantity']):\n",
        "      Cart[cartCounter] = {\"Item ID\":itemId,\"Name\":Items[itemId]['Name'],\"Price\":str(int(Items[itemId]['Price'])*purchaseQuantity),\"Quantity\":purchaseQuantity}\n",
        "      cartCounter = cartCounter + 1\n",
        "      Items[itemId]['Quantity'] = str(int(Items[itemId]['Quantity']) - purchaseQuantity)\n",
        "      print(\"Items Are added in your cart.\")    \n",
        "    else:\n",
        "      print(\"Please try later.\\nWe only have %s %s's in our Inventory.\" % (Items[itemId]['Quantity'],Items[itemId]['Name']))\n",
        "  else:\n",
        "    print(\"Item not in the Inventory...\")"
      ],
      "execution_count": null,
      "outputs": []
    },
    {
      "cell_type": "code",
      "metadata": {
        "id": "qLeUTn5YmjRP"
      },
      "source": [
        "# This function is used to add Items to the Inventory\n",
        "\n",
        "def add():\n",
        "  print(\"You are about to add items to the Inventory\\n\")\n",
        "  itemId = input(\"Enter the Item ID :- \")\n",
        "  itemName = input(\"Enter the Item Name :- \")\n",
        "  itemPrice = input(\"Enter the Item Price :- \")\n",
        "  itemQuantity = input(\"Enter the Item Quantity :- \")\n",
        "  if (len(itemId)>0 and len(itemName)>0 and len(itemPrice)>0 and len(itemQuantity)>0):\n",
        "    Items[itemId] = {\"Name\":itemName,\"Price\":itemPrice,\"Quantity\":itemQuantity}\n",
        "  else:\n",
        "    print(\"You have missed entering a value, Retry.\")"
      ],
      "execution_count": null,
      "outputs": []
    },
    {
      "cell_type": "code",
      "metadata": {
        "id": "Yj1-B1NEmmWI"
      },
      "source": [
        "# This function handles Checkout and Billing Process\n",
        "\n",
        "def checkout():\n",
        "  viewCart(Items)\n",
        "  confirm = input(\"CONFIRM CHECKOUT\\nAre you sure you want to checkout? If yes, enter \\\"YES\\\", else press any KEY.\\n---> \")\n",
        "  if confirm == \"YES\":\n",
        "    total = sum(int(value[\"Price\"]) for key,value in Cart.items())\n",
        "    print(\"Your Total is :- \",total)\n",
        "  else:\n",
        "    print(\"Back to Menu...\")\n",
        "    pass\n",
        "  while True:\n",
        "    paid = input(\"Have you paid? If yes, enter \\\"YES\\\" to receive the Invoice.\\n--->\")\n",
        "    if paid == \"YES\":\n",
        "      bill()\n",
        "      break"
      ],
      "execution_count": null,
      "outputs": []
    },
    {
      "cell_type": "code",
      "metadata": {
        "id": "4Aw4a7Dym1TG"
      },
      "source": [
        "# The Main Function/Driver Code of the whole IMS\n",
        "\n",
        "viewInventory(Items)\n",
        "\n",
        "while True:\n",
        "  operation = input(\"\\nTo Purchase Items\\t - Enter 1\\nAdd Items to Inventory\\t - Enter 2\\nView Inventory\\t\\t - Enter 3\\nView Cart\\t\\t - Enter 4\\nCheckout\\t\\t - Enter 5\\nExit\\t\\t\\t - Enter 0\\n\\nWhat would you like to do? :-\");print()\n",
        "  if operation == \"1\":\n",
        "    Purchase()\n",
        "    dumpItems()\n",
        "  elif operation == \"2\":\n",
        "    add()\n",
        "    dumpItems()\n",
        "  elif operation == \"3\":\n",
        "    viewInventory(Items)\n",
        "  elif operation == \"4\":\n",
        "    viewCart(Items)\n",
        "  elif operation == \"5\":\n",
        "    checkout()\n",
        "    break\n",
        "  elif operation == \"0\":\n",
        "    print(\"Program Terminated\")\n",
        "    break\n",
        "  else:\n",
        "    print(\"\\nSelect Valid Operation\")"
      ],
      "execution_count": null,
      "outputs": []
    }
  ]
}